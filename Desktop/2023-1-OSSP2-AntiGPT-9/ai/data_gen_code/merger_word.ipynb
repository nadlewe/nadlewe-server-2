{
 "cells": [
  {
   "cell_type": "code",
   "execution_count": 1,
   "metadata": {},
   "outputs": [],
   "source": [
    "import json\n",
    "import os\n",
    "import re"
   ]
  },
  {
   "cell_type": "code",
   "execution_count": 2,
   "metadata": {},
   "outputs": [
    {
     "name": "stdout",
     "output_type": "stream",
     "text": [
      "<re.Match object; span=(6, 7), match='/'>\n"
     ]
    }
   ],
   "source": [
    "print(re.search(\"/\",\"자 (그믄)/(그러면) 이제부터 얘기해 (보게예)/(봐요)\"))\n"
   ]
  },
  {
   "cell_type": "code",
   "execution_count": 3,
   "metadata": {},
   "outputs": [],
   "source": [
    "dir_path = \"C:/Users/USER/Desktop/leedawon/data/download/한국어 방언 발화(제주도)/\""
   ]
  },
  {
   "cell_type": "code",
   "execution_count": 4,
   "metadata": {},
   "outputs": [],
   "source": [
    "roots = []\n",
    "for (root, directories, files) in os.walk(dir_path):\n",
    "    for file in files:\n",
    "        if '.json' in file and not ('data' in file):\n",
    "            file_path = os.path.join(root, file)\n",
    "            roots.append(file_path)"
   ]
  },
  {
   "cell_type": "code",
   "execution_count": 5,
   "metadata": {},
   "outputs": [
    {
     "name": "stdout",
     "output_type": "stream",
     "text": [
      "5638\n"
     ]
    }
   ],
   "source": [
    "print(len(roots))"
   ]
  },
  {
   "cell_type": "code",
   "execution_count": 6,
   "metadata": {},
   "outputs": [],
   "source": [
    "\n",
    "\n",
    "dic = dict()\n",
    "dic[\"utterance\"] = []\n",
    "\n",
    "for path in roots:\n",
    "    with open(path, 'rb') as f:\n",
    "        input_dict = json.load(f)\n",
    "    temp_dic = dict()\n",
    "    if not \"utterance\" in input_dict:\n",
    "        print(\"error no utterance\")\n",
    "        continue\n",
    "    for sen in input_dict[\"utterance\"]:\n",
    "        if re.search(\"/\",sen.get(\"form\",\"nope\")) != None:\n",
    "            if not \"utterance\" in input_dict:\n",
    "                print(\"error no eojeolList\")\n",
    "                continue\n",
    "            for eojeol in sen[\"eojeolList\"]:\n",
    "                if eojeol[\"isDialect\"] == True:\n",
    "                    temp_dic[\"standard_form\"] = re.sub(r'[^\\uAC00-\\uD7A30-9\\s]','',eojeol[\"standard\"])\n",
    "                    temp_dic[\"dialect_form\"] = re.sub(r'[^\\uAC00-\\uD7A30-9\\s]','',eojeol[\"eojeol\"])\n",
    "                    if temp_dic[\"standard_form\"] != temp_dic[\"dialect_form\"]: \n",
    "                        dic[\"utterance\"].append(dict(temp_dic))\n"
   ]
  },
  {
   "cell_type": "code",
   "execution_count": 7,
   "metadata": {},
   "outputs": [],
   "source": [
    "from copy import deepcopy\n",
    "test_dic = deepcopy(dic)"
   ]
  },
  {
   "cell_type": "code",
   "execution_count": 8,
   "metadata": {},
   "outputs": [],
   "source": [
    "divider = int(len(dic[\"utterance\"])*0)\n",
    "test_dic[\"utterance\"]=dic[\"utterance\"][:divider]\n",
    "dic[\"utterance\"] = dic[\"utterance\"][divider:]"
   ]
  },
  {
   "cell_type": "code",
   "execution_count": 9,
   "metadata": {},
   "outputs": [],
   "source": [
    "with open(\"real_data_folder/real_word_data.json\", \"w\", encoding='utf-8') as outfile:\n",
    "    json.dump(dic, outfile,ensure_ascii=False)"
   ]
  },
  {
   "cell_type": "code",
   "execution_count": 10,
   "metadata": {},
   "outputs": [
    {
     "name": "stdout",
     "output_type": "stream",
     "text": [
      "2092700\n"
     ]
    }
   ],
   "source": [
    "print(len(dic[\"utterance\"]))"
   ]
  },
  {
   "cell_type": "code",
   "execution_count": 11,
   "metadata": {},
   "outputs": [
    {
     "name": "stdout",
     "output_type": "stream",
     "text": [
      "<class 'str'>\n"
     ]
    }
   ],
   "source": [
    "print(type(dic[\"utterance\"][0][\"standard_form\"]))"
   ]
  },
  {
   "cell_type": "code",
   "execution_count": 12,
   "metadata": {},
   "outputs": [],
   "source": [
    "with open(\"real_data_folder/test_word_data.json\", \"w\", encoding='utf-8') as outfile:\n",
    "    json.dump(test_dic, outfile,ensure_ascii=False)"
   ]
  }
 ],
 "metadata": {
  "kernelspec": {
   "display_name": "Python 3",
   "language": "python",
   "name": "python3"
  },
  "language_info": {
   "codemirror_mode": {
    "name": "ipython",
    "version": 3
   },
   "file_extension": ".py",
   "mimetype": "text/x-python",
   "name": "python",
   "nbconvert_exporter": "python",
   "pygments_lexer": "ipython3",
   "version": "3.9.13"
  },
  "orig_nbformat": 4,
  "vscode": {
   "interpreter": {
    "hash": "d417a21d97a2e6b8832d21dc44f5cbe4be6e18325f874a8bb8484565b928cd54"
   }
  }
 },
 "nbformat": 4,
 "nbformat_minor": 2
}
